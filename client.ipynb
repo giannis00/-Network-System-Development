{
 "cells": [
  {
   "cell_type": "code",
   "execution_count": null,
   "id": "f45ee5dc-ca6b-4881-9c91-a1b6c4a0f403",
   "metadata": {},
   "outputs": [],
   "source": [
    "import socket\n",
    "\n",
    "# Connect to server\n",
    "client = socket.socket(socket.AF_INET, socket.SOCK_STREAM)\n",
    "client.connect(('127.0.0.1', 65432))\n",
    "print(\"Connected to server\")\n",
    "\n",
    "# Keep chatting\n",
    "while True:\n",
    "    # Send message\n",
    "    message = input(\"Type message (*#0#* to exit): \")\n",
    "    client.send(message.encode())\n",
    "    \n",
    "    # Check for exit\n",
    "    if message == \"*#0#*\":\n",
    "        break\n",
    "    \n",
    "    # Get reply\n",
    "    reply = client.recv(1024).decode()\n",
    "    print(f\"Server replied: {reply}\")\n",
    "\n",
    "client.close()"
   ]
  }
 ],
 "metadata": {
  "kernelspec": {
   "display_name": "Python 3 (ipykernel)",
   "language": "python",
   "name": "python3"
  },
  "language_info": {
   "codemirror_mode": {
    "name": "ipython",
    "version": 3
   },
   "file_extension": ".py",
   "mimetype": "text/x-python",
   "name": "python",
   "nbconvert_exporter": "python",
   "pygments_lexer": "ipython3",
   "version": "3.9.7"
  }
 },
 "nbformat": 4,
 "nbformat_minor": 5
}
