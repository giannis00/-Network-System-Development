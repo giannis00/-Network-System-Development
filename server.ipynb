{
 "cells": [
  {
   "cell_type": "code",
   "execution_count": null,
   "id": "e7eb6dfb-6cbe-4d63-ba5b-db7641826d4f",
   "metadata": {},
   "outputs": [],
   "source": [
    "import socket\n",
    "\n",
    "# Create server\n",
    "server = socket.socket(socket.AF_INET, socket.SOCK_STREAM)\n",
    "server.bind(('127.0.0.1', 65432))  # Local computer, port 65432\n",
    "server.listen()\n",
    "print(\"Server is listening...\")\n",
    "\n",
    "# Wait for connection\n",
    "connection, address = server.accept()\n",
    "print(f\"Connected to {address}\")\n",
    "\n",
    "# Keep chatting\n",
    "while True:\n",
    "    # Get message\n",
    "    message = connection.recv(1024).decode()\n",
    "    \n",
    "    # Check for exit\n",
    "    if message == \"*#0#*\":\n",
    "        print(\"Closing connection\")\n",
    "        break\n",
    "    \n",
    "    # Show message and reply\n",
    "    print(f\"Client said: {message}\")\n",
    "    connection.send(f\"Got your message: {message}\".encode())\n",
    "\n",
    "connection.close()"
   ]
  }
 ],
 "metadata": {
  "kernelspec": {
   "display_name": "Python 3 (ipykernel)",
   "language": "python",
   "name": "python3"
  },
  "language_info": {
   "codemirror_mode": {
    "name": "ipython",
    "version": 3
   },
   "file_extension": ".py",
   "mimetype": "text/x-python",
   "name": "python",
   "nbconvert_exporter": "python",
   "pygments_lexer": "ipython3",
   "version": "3.9.7"
  }
 },
 "nbformat": 4,
 "nbformat_minor": 5
}
